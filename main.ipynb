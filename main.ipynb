{
  "nbformat": 4,
  "nbformat_minor": 0,
  "metadata": {
    "colab": {
      "provenance": [],
      "authorship_tag": "ABX9TyN1QlGXrt+Itn6F+hcMTfBm",
      "include_colab_link": true
    },
    "kernelspec": {
      "name": "python3",
      "display_name": "Python 3"
    },
    "language_info": {
      "name": "python"
    }
  },
  "cells": [
    {
      "cell_type": "markdown",
      "metadata": {
        "id": "view-in-github",
        "colab_type": "text"
      },
      "source": [
        "<a href=\"https://colab.research.google.com/github/DavidToth23/music_instrument_classification/blob/main/main.ipynb\" target=\"_parent\"><img src=\"https://colab.research.google.com/assets/colab-badge.svg\" alt=\"Open In Colab\"/></a>"
      ]
    },
    {
      "cell_type": "code",
      "source": [
        "from google.colab import files\n",
        "uploaded = files.upload()"
      ],
      "metadata": {
        "colab": {
          "base_uri": "https://localhost:8080/",
          "height": 73
        },
        "id": "l-bzupyiocAF",
        "outputId": "6db4d5eb-afef-458c-c0ac-8a3315b5e3f0"
      },
      "execution_count": 7,
      "outputs": [
        {
          "output_type": "display_data",
          "data": {
            "text/plain": [
              "<IPython.core.display.HTML object>"
            ],
            "text/html": [
              "\n",
              "     <input type=\"file\" id=\"files-9068d7c6-d2da-4226-b098-5687c5782907\" name=\"files[]\" multiple disabled\n",
              "        style=\"border:none\" />\n",
              "     <output id=\"result-9068d7c6-d2da-4226-b098-5687c5782907\">\n",
              "      Upload widget is only available when the cell has been executed in the\n",
              "      current browser session. Please rerun this cell to enable.\n",
              "      </output>\n",
              "      <script>// Copyright 2017 Google LLC\n",
              "//\n",
              "// Licensed under the Apache License, Version 2.0 (the \"License\");\n",
              "// you may not use this file except in compliance with the License.\n",
              "// You may obtain a copy of the License at\n",
              "//\n",
              "//      http://www.apache.org/licenses/LICENSE-2.0\n",
              "//\n",
              "// Unless required by applicable law or agreed to in writing, software\n",
              "// distributed under the License is distributed on an \"AS IS\" BASIS,\n",
              "// WITHOUT WARRANTIES OR CONDITIONS OF ANY KIND, either express or implied.\n",
              "// See the License for the specific language governing permissions and\n",
              "// limitations under the License.\n",
              "\n",
              "/**\n",
              " * @fileoverview Helpers for google.colab Python module.\n",
              " */\n",
              "(function(scope) {\n",
              "function span(text, styleAttributes = {}) {\n",
              "  const element = document.createElement('span');\n",
              "  element.textContent = text;\n",
              "  for (const key of Object.keys(styleAttributes)) {\n",
              "    element.style[key] = styleAttributes[key];\n",
              "  }\n",
              "  return element;\n",
              "}\n",
              "\n",
              "// Max number of bytes which will be uploaded at a time.\n",
              "const MAX_PAYLOAD_SIZE = 100 * 1024;\n",
              "\n",
              "function _uploadFiles(inputId, outputId) {\n",
              "  const steps = uploadFilesStep(inputId, outputId);\n",
              "  const outputElement = document.getElementById(outputId);\n",
              "  // Cache steps on the outputElement to make it available for the next call\n",
              "  // to uploadFilesContinue from Python.\n",
              "  outputElement.steps = steps;\n",
              "\n",
              "  return _uploadFilesContinue(outputId);\n",
              "}\n",
              "\n",
              "// This is roughly an async generator (not supported in the browser yet),\n",
              "// where there are multiple asynchronous steps and the Python side is going\n",
              "// to poll for completion of each step.\n",
              "// This uses a Promise to block the python side on completion of each step,\n",
              "// then passes the result of the previous step as the input to the next step.\n",
              "function _uploadFilesContinue(outputId) {\n",
              "  const outputElement = document.getElementById(outputId);\n",
              "  const steps = outputElement.steps;\n",
              "\n",
              "  const next = steps.next(outputElement.lastPromiseValue);\n",
              "  return Promise.resolve(next.value.promise).then((value) => {\n",
              "    // Cache the last promise value to make it available to the next\n",
              "    // step of the generator.\n",
              "    outputElement.lastPromiseValue = value;\n",
              "    return next.value.response;\n",
              "  });\n",
              "}\n",
              "\n",
              "/**\n",
              " * Generator function which is called between each async step of the upload\n",
              " * process.\n",
              " * @param {string} inputId Element ID of the input file picker element.\n",
              " * @param {string} outputId Element ID of the output display.\n",
              " * @return {!Iterable<!Object>} Iterable of next steps.\n",
              " */\n",
              "function* uploadFilesStep(inputId, outputId) {\n",
              "  const inputElement = document.getElementById(inputId);\n",
              "  inputElement.disabled = false;\n",
              "\n",
              "  const outputElement = document.getElementById(outputId);\n",
              "  outputElement.innerHTML = '';\n",
              "\n",
              "  const pickedPromise = new Promise((resolve) => {\n",
              "    inputElement.addEventListener('change', (e) => {\n",
              "      resolve(e.target.files);\n",
              "    });\n",
              "  });\n",
              "\n",
              "  const cancel = document.createElement('button');\n",
              "  inputElement.parentElement.appendChild(cancel);\n",
              "  cancel.textContent = 'Cancel upload';\n",
              "  const cancelPromise = new Promise((resolve) => {\n",
              "    cancel.onclick = () => {\n",
              "      resolve(null);\n",
              "    };\n",
              "  });\n",
              "\n",
              "  // Wait for the user to pick the files.\n",
              "  const files = yield {\n",
              "    promise: Promise.race([pickedPromise, cancelPromise]),\n",
              "    response: {\n",
              "      action: 'starting',\n",
              "    }\n",
              "  };\n",
              "\n",
              "  cancel.remove();\n",
              "\n",
              "  // Disable the input element since further picks are not allowed.\n",
              "  inputElement.disabled = true;\n",
              "\n",
              "  if (!files) {\n",
              "    return {\n",
              "      response: {\n",
              "        action: 'complete',\n",
              "      }\n",
              "    };\n",
              "  }\n",
              "\n",
              "  for (const file of files) {\n",
              "    const li = document.createElement('li');\n",
              "    li.append(span(file.name, {fontWeight: 'bold'}));\n",
              "    li.append(span(\n",
              "        `(${file.type || 'n/a'}) - ${file.size} bytes, ` +\n",
              "        `last modified: ${\n",
              "            file.lastModifiedDate ? file.lastModifiedDate.toLocaleDateString() :\n",
              "                                    'n/a'} - `));\n",
              "    const percent = span('0% done');\n",
              "    li.appendChild(percent);\n",
              "\n",
              "    outputElement.appendChild(li);\n",
              "\n",
              "    const fileDataPromise = new Promise((resolve) => {\n",
              "      const reader = new FileReader();\n",
              "      reader.onload = (e) => {\n",
              "        resolve(e.target.result);\n",
              "      };\n",
              "      reader.readAsArrayBuffer(file);\n",
              "    });\n",
              "    // Wait for the data to be ready.\n",
              "    let fileData = yield {\n",
              "      promise: fileDataPromise,\n",
              "      response: {\n",
              "        action: 'continue',\n",
              "      }\n",
              "    };\n",
              "\n",
              "    // Use a chunked sending to avoid message size limits. See b/62115660.\n",
              "    let position = 0;\n",
              "    do {\n",
              "      const length = Math.min(fileData.byteLength - position, MAX_PAYLOAD_SIZE);\n",
              "      const chunk = new Uint8Array(fileData, position, length);\n",
              "      position += length;\n",
              "\n",
              "      const base64 = btoa(String.fromCharCode.apply(null, chunk));\n",
              "      yield {\n",
              "        response: {\n",
              "          action: 'append',\n",
              "          file: file.name,\n",
              "          data: base64,\n",
              "        },\n",
              "      };\n",
              "\n",
              "      let percentDone = fileData.byteLength === 0 ?\n",
              "          100 :\n",
              "          Math.round((position / fileData.byteLength) * 100);\n",
              "      percent.textContent = `${percentDone}% done`;\n",
              "\n",
              "    } while (position < fileData.byteLength);\n",
              "  }\n",
              "\n",
              "  // All done.\n",
              "  yield {\n",
              "    response: {\n",
              "      action: 'complete',\n",
              "    }\n",
              "  };\n",
              "}\n",
              "\n",
              "scope.google = scope.google || {};\n",
              "scope.google.colab = scope.google.colab || {};\n",
              "scope.google.colab._files = {\n",
              "  _uploadFiles,\n",
              "  _uploadFilesContinue,\n",
              "};\n",
              "})(self);\n",
              "</script> "
            ]
          },
          "metadata": {}
        },
        {
          "output_type": "stream",
          "name": "stdout",
          "text": [
            "Saving nsynth-test.jsonwav.tar.gz to nsynth-test.jsonwav.tar.gz\n"
          ]
        }
      ]
    },
    {
      "cell_type": "code",
      "source": [
        "import tarfile\n",
        "\n",
        "with tarfile.open(\"nsynth-test.jsonwav.tar.gz\", \"r:gz\") as tar:\n",
        "    tar.extractall(\"nsynth-test\")"
      ],
      "metadata": {
        "colab": {
          "base_uri": "https://localhost:8080/"
        },
        "id": "lgBVAXPBtCeY",
        "outputId": "91c8f4b9-3e94-4052-9bcf-61ed17f72684"
      },
      "execution_count": 9,
      "outputs": [
        {
          "output_type": "stream",
          "name": "stderr",
          "text": [
            "/tmp/ipython-input-4162848768.py:4: DeprecationWarning: Python 3.14 will, by default, filter extracted tar archives and reject files or modify their metadata. Use the filter argument to control this behavior.\n",
            "  tar.extractall(\"nsynth-test\")\n"
          ]
        }
      ]
    },
    {
      "cell_type": "code",
      "source": [
        "import os\n",
        "\n",
        "print(os.listdir(\"nsynth-test\")[:10])\n"
      ],
      "metadata": {
        "colab": {
          "base_uri": "https://localhost:8080/"
        },
        "id": "yBVbkFjzthT0",
        "outputId": "9466706c-2633-430a-d282-dc69f5f539d7"
      },
      "execution_count": 10,
      "outputs": [
        {
          "output_type": "stream",
          "name": "stdout",
          "text": [
            "['nsynth-test']\n"
          ]
        }
      ]
    },
    {
      "cell_type": "code",
      "source": [
        "import json, os\n",
        "from pathlib import Path\n",
        "import pandas as pd\n",
        "\n",
        "SPLIT_DIR = Path(\"nsynth-test/nsynth-test\")  # ili \"nsynth-valid\" ako koristiš valid\n",
        "META_PATH = SPLIT_DIR / \"examples.json\"\n",
        "\n",
        "# map porodica (family_id -> ime)\n",
        "FAMILY_MAP = {\n",
        "    0: \"bass\", 1: \"brass\", 2: \"flute\", 3: \"guitar\", 4: \"keyboard\",\n",
        "    5: \"mallet\", 6: \"organ\", 7: \"reed\", 8: \"string\", 9: \"synth_lead\", 10: \"vocal\"\n",
        "}\n",
        "\n",
        "with open(META_PATH, \"r\") as f:\n",
        "    meta = json.load(f)\n",
        "\n",
        "rows = []\n",
        "for key, m in meta.items():\n",
        "    # u jsonwav verziji obično postoji 'audio_path'\n",
        "    rel = m.get(\"audio_path\")\n",
        "    if not rel:\n",
        "        # fallback: probaj da nađeš wav po id-u\n",
        "        cand = list((SPLIT_DIR / \"audio\").rglob(f\"{key}.wav\"))\n",
        "        if not cand:\n",
        "            continue\n",
        "        rel = cand[0].relative_to(SPLIT_DIR).as_posix()\n",
        "\n",
        "    rows.append({\n",
        "        \"id\": key,\n",
        "        \"wav\": str((SPLIT_DIR / rel).resolve()),\n",
        "        \"family_id\": int(m[\"instrument_family\"]),\n",
        "        \"family\": FAMILY_MAP[int(m[\"instrument_family\"])],\n",
        "        \"pitch\": int(m[\"pitch\"]),\n",
        "        \"velocity\": int(m[\"velocity\"])\n",
        "    })\n",
        "\n",
        "df = pd.DataFrame(rows)\n",
        "df.head(), df[\"family\"].value_counts().sort_index()\n"
      ],
      "metadata": {
        "colab": {
          "base_uri": "https://localhost:8080/"
        },
        "id": "aYZresp5xXEN",
        "outputId": "3fb541e6-522c-4fba-e473-0fa282e0e456"
      },
      "execution_count": 12,
      "outputs": [
        {
          "output_type": "execute_result",
          "data": {
            "text/plain": [
              "(                                id  \\\n",
              " 0       bass_synthetic_068-049-025   \n",
              " 1  keyboard_electronic_001-021-127   \n",
              " 2      guitar_acoustic_010-066-100   \n",
              " 3        reed_acoustic_037-068-127   \n",
              " 4       flute_acoustic_002-077-100   \n",
              " \n",
              "                                                  wav  family_id    family  \\\n",
              " 0  /content/nsynth-test/nsynth-test/audio/bass_sy...          0      bass   \n",
              " 1  /content/nsynth-test/nsynth-test/audio/keyboar...          4  keyboard   \n",
              " 2  /content/nsynth-test/nsynth-test/audio/guitar_...          3    guitar   \n",
              " 3  /content/nsynth-test/nsynth-test/audio/reed_ac...          7      reed   \n",
              " 4  /content/nsynth-test/nsynth-test/audio/flute_a...          2     flute   \n",
              " \n",
              "    pitch  velocity  \n",
              " 0     49        25  \n",
              " 1     21       127  \n",
              " 2     66       100  \n",
              " 3     68       127  \n",
              " 4     77       100  ,\n",
              " family\n",
              " bass        843\n",
              " brass       269\n",
              " flute       180\n",
              " guitar      652\n",
              " keyboard    766\n",
              " mallet      202\n",
              " organ       502\n",
              " reed        235\n",
              " string      306\n",
              " vocal       141\n",
              " Name: count, dtype: int64)"
            ]
          },
          "metadata": {},
          "execution_count": 12
        }
      ]
    },
    {
      "cell_type": "code",
      "source": [
        "# koliko primera po porodici (podesi po želji)\n",
        "K = 300   # ~ 11*300 ≈ 3300 uzoraka (ako ih ima dovoljno u test splitu)\n",
        "mini = (df.groupby(\"family_id\", group_keys=False)\n",
        "          .apply(lambda g: g.sample(min(K, len(g)), random_state=42))\n",
        "          .reset_index(drop=True))\n",
        "\n",
        "mini[\"family\"].value_counts().sort_index()\n",
        "mini.to_csv(\"nsynth_mini.csv\", index=False)\n"
      ],
      "metadata": {
        "colab": {
          "base_uri": "https://localhost:8080/"
        },
        "id": "_f3Z9py4ysQ3",
        "outputId": "4a0d9955-346f-4582-86d8-dfc6a502d996"
      },
      "execution_count": 13,
      "outputs": [
        {
          "output_type": "stream",
          "name": "stderr",
          "text": [
            "/tmp/ipython-input-1675320208.py:4: DeprecationWarning: DataFrameGroupBy.apply operated on the grouping columns. This behavior is deprecated, and in a future version of pandas the grouping columns will be excluded from the operation. Either pass `include_groups=False` to exclude the groupings or explicitly select the grouping columns after groupby to silence this warning.\n",
            "  .apply(lambda g: g.sample(min(K, len(g)), random_state=42))\n"
          ]
        }
      ]
    },
    {
      "cell_type": "code",
      "source": [
        "!pip -q install torch torchaudio librosa soundfile --upgrade\n",
        "\n",
        "import numpy as np\n",
        "import torch\n",
        "from torch.utils.data import Dataset, DataLoader\n",
        "import librosa\n",
        "\n",
        "# audio -> mel config\n",
        "SR = 16000\n",
        "N_FFT = 1024\n",
        "HOP = 256\n",
        "N_MELS = 64\n",
        "FMIN = 20\n",
        "FMAX = 8000\n",
        "\n",
        "LABELS = sorted(mini[\"family\"].unique())\n",
        "label2idx = {l:i for i,l in enumerate(LABELS)}\n",
        "idx2label = {i:l for l,i in label2idx.items()}\n",
        "\n",
        "class NSynthMelDataset(Dataset):\n",
        "    def __init__(self, table, augment=False):\n",
        "        self.table = table.reset_index(drop=True)\n",
        "        self.augment = augment\n",
        "\n",
        "    def __len__(self):\n",
        "        return len(self.table)\n",
        "\n",
        "    def __getitem__(self, i):\n",
        "        row = self.table.iloc[i]\n",
        "        wav_path = row[\"wav\"]\n",
        "        y, sr = librosa.load(wav_path, sr=SR, mono=True)\n",
        "        # opcione sitne augmentacije (za start ne preteruj)\n",
        "        if self.augment:\n",
        "            # random gain ±3 dB\n",
        "            gain = 10**(np.random.uniform(-3,3)/20)\n",
        "            y = y * gain\n",
        "\n",
        "        # log-mel\n",
        "        S = librosa.feature.melspectrogram(\n",
        "            y=y, sr=SR, n_fft=N_FFT, hop_length=HOP,\n",
        "            n_mels=N_MELS, fmin=FMIN, fmax=FMAX\n",
        "        )\n",
        "        S_db = librosa.power_to_db(S, ref=np.max).astype(np.float32)  # [n_mels, time]\n",
        "        # standardizacija po-sample\n",
        "        mu, sigma = S_db.mean(), S_db.std() + 1e-6\n",
        "        S_norm = (S_db - mu) / sigma\n",
        "        # PyTorch očekuje [C, H, W]\n",
        "        x = torch.from_numpy(S_norm).unsqueeze(0)  # [1, n_mels, time]\n",
        "        y_lbl = torch.tensor(label2idx[row[\"family\"]], dtype=torch.long)\n",
        "        return x, y_lbl\n"
      ],
      "metadata": {
        "id": "7lLVqEZ2yz8M"
      },
      "execution_count": 14,
      "outputs": []
    }
  ]
}